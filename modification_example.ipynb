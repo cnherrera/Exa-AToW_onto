{
 "cells": [
  {
   "cell_type": "markdown",
   "id": "423d01f9-e2aa-4004-a4b6-dd7d320c4804",
   "metadata": {},
   "source": [
    "# Modifying the Ontology\n",
    "\n",
    "While the ontologies should be defined in JSON, the `ExaAToWOnto` class has the ability to modify (and verify) the JSON files for you.\n",
    "\n",
    "This notebook gives an example on how to achieve this.\n",
    "\n",
    "## Setup\n",
    "\n",
    "First, import the class and create an instance"
   ]
  },
  {
   "cell_type": "code",
   "execution_count": 1,
   "id": "cd66620e-b038-4c4f-b4f0-455bcb5fd2fe",
   "metadata": {},
   "outputs": [],
   "source": [
    "from ontology_generator import ExaAToWOnto"
   ]
  },
  {
   "cell_type": "code",
   "execution_count": 2,
   "id": "9c4ae3be-3091-420c-918d-db29e7e1bb3b",
   "metadata": {},
   "outputs": [
    {
     "name": "stdout",
     "output_type": "stream",
     "text": [
      "Prefixing file load with 'files' directory\n"
     ]
    }
   ],
   "source": [
    "ont = ExaAToWOnto()"
   ]
  },
  {
   "cell_type": "markdown",
   "id": "395fa80a-bf9f-4647-83b4-663dd57b8562",
   "metadata": {},
   "source": [
    "## Adding a Class\n",
    "\n",
    "Now, we can add a class to the ontology\n",
    "\n",
    "The syntax for this is just like what would be added to the JSON, with the exception that `id` = `class_name`\n",
    "\n",
    "#### Path\n",
    "\n",
    "Note that if you want to actually dump your additions to JSON, you must specify the filename with `json_path`.\n",
    "A relative path is preferred, but if the directory name is not found within the filepath it will be prepended.\n",
    "\n",
    "#### Prefixing\n",
    "\n",
    "Warning: If your filename happens to contain the directory name, the prefix will not be added.\n",
    "e.g. `sub_files_classes.json` will NOT be corrected with a `files` directory\n",
    "\n",
    "#### Creation\n",
    "\n",
    "If a file does not exist, it will be created"
   ]
  },
  {
   "cell_type": "code",
   "execution_count": 3,
   "id": "bc55d85d-134b-4d2b-b5e8-97ec774839f8",
   "metadata": {},
   "outputs": [],
   "source": [
    "ont.add_class(\n",
    "    class_name=\"TestClass\",\n",
    "    pref_label=\"test_class\",\n",
    "    comment=\"Testing Class\",\n",
    "    json_path=\"sub_test_class.json\"\n",
    ")"
   ]
  },
  {
   "cell_type": "markdown",
   "id": "63f04ee9-c507-4713-9f06-27b9909a2d2b",
   "metadata": {},
   "source": [
    "## Dumping\n",
    "\n",
    "Once you're happy with your changes, you can call `dump_to_json`\n",
    "\n",
    "This will dump the current graph to JSON files according to the files that are associated with each entry in the graph.\n",
    "\n",
    "A summary will be printed along the way so you know what's happening:"
   ]
  },
  {
   "cell_type": "code",
   "execution_count": 4,
   "id": "75aace2c-36c7-4015-8724-93590b43c809",
   "metadata": {},
   "outputs": [
    {
     "name": "stdout",
     "output_type": "stream",
     "text": [
      "Dumping ontology to json\n",
      "  We have 65 entries in the graph derived mapping.\n",
      "\n",
      "Treating file: files/sub_PIE_classes.json\n",
      "  Loading existing ids... Done (14)\n",
      "Treating file: files/main_classes.json\n",
      "  Loading existing ids... Done (7)\n",
      "Treating file: files/sub_HPC_classes.json\n",
      "  Loading existing ids... Done (16)\n",
      "Treating file: files/sub_Job_class.json\n",
      "  Loading existing ids... Done (17)\n",
      "Treating file: files/sub_test_class.json\n",
      "  Loading existing ids... Done (1)\n",
      "Treating file: files/sub_PhysChar_classes.json\n",
      "  Loading existing ids... Done (4)\n",
      "\n",
      "Warning: 6 entries were not written (Do they have an assigned JSON file?)\n",
      "  hasDieSize\n",
      "  authenticates\n",
      "  hasValue\n",
      "  SimulationResult\n",
      "  hasUnit\n",
      "  DigitalTwin\n"
     ]
    }
   ],
   "source": [
    "ont.dump_to_json()"
   ]
  }
 ],
 "metadata": {
  "kernelspec": {
   "display_name": "Python 3 (ipykernel)",
   "language": "python",
   "name": "python3"
  },
  "language_info": {
   "codemirror_mode": {
    "name": "ipython",
    "version": 3
   },
   "file_extension": ".py",
   "mimetype": "text/x-python",
   "name": "python",
   "nbconvert_exporter": "python",
   "pygments_lexer": "ipython3",
   "version": "3.11.8"
  }
 },
 "nbformat": 4,
 "nbformat_minor": 5
}
