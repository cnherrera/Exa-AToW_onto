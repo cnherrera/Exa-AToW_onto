{
 "cells": [
  {
   "cell_type": "code",
   "execution_count": 1,
   "id": "c4ad4d4c-08b6-4cfe-9d45-b243aa672c18",
   "metadata": {},
   "outputs": [],
   "source": [
    "import os\n",
    "\n",
    "import modification_utils"
   ]
  },
  {
   "cell_type": "markdown",
   "id": "bb2c05a3-19e9-4767-94a7-f588a35a2b69",
   "metadata": {},
   "source": [
    "# Load Ontology Data\n",
    "\n",
    "The JSONOntology class accepts a path to a directory containing the JSON format ontology data.\n",
    "\n",
    "It will collect and read all JSON files, creating OntologyItem objects for each entry."
   ]
  },
  {
   "cell_type": "code",
   "execution_count": 2,
   "id": "b8bd49f7-08ac-4390-bc82-52ce5a1b4c08",
   "metadata": {},
   "outputs": [
    {
     "name": "stdout",
     "output_type": "stream",
     "text": [
      "Creating JSONOntology using base paths:\n",
      "  ../files/main_classes.json\n",
      "  ../files/sub_HPC_classes.json\n",
      "  ../files/sub_Job_class.json\n",
      "  ../files/sub_PIE_classes.json\n",
      "  ../files/sub_PhysChar_classes.json\n",
      "Intial entries added: 58\n"
     ]
    }
   ],
   "source": [
    "ont = modification_utils.JSONOntology(\"../files\")"
   ]
  },
  {
   "cell_type": "markdown",
   "id": "19d469b6-24f5-4368-b400-9faa08badf0c",
   "metadata": {},
   "source": [
    "## Access\n",
    "\n",
    "We can access these items by their `id` property"
   ]
  },
  {
   "cell_type": "code",
   "execution_count": 3,
   "id": "6e2d480f-db98-4381-bb4c-de135fa89d35",
   "metadata": {},
   "outputs": [
    {
     "data": {
      "text/plain": [
       "OntologyItem(JobResourceRequest)"
      ]
     },
     "execution_count": 3,
     "metadata": {},
     "output_type": "execute_result"
    }
   ],
   "source": [
    "ont[\"JobResourceRequest\"]"
   ]
  },
  {
   "cell_type": "markdown",
   "id": "81a73164-27f6-491f-ab7e-fec6a3a43359",
   "metadata": {},
   "source": [
    "## Adding Entries\n",
    "\n",
    "Extra entries can be added using the `add_entry` function.\n",
    "\n",
    "The arguments represent those present in the JSON, with the caveats that the labels and comments are split into `label_en`/`label_fr` and `comment_en`/`comment_fr`"
   ]
  },
  {
   "cell_type": "code",
   "execution_count": 4,
   "id": "2a5f7775-e151-4c0e-bb43-fde3934fbd9c",
   "metadata": {},
   "outputs": [
    {
     "name": "stdout",
     "output_type": "stream",
     "text": [
      "Warning: No sourcefile provided for id 'foo', this entry will not be written\n"
     ]
    }
   ],
   "source": [
    "ont.add_entry(id=\"foo\", comment_en=\"test entry\", label_en=\"foo\", parent_class=\"User\")"
   ]
  },
  {
   "cell_type": "code",
   "execution_count": 5,
   "id": "0baab451-fe61-4cbb-9415-f2021f3d4e45",
   "metadata": {},
   "outputs": [
    {
     "name": "stdout",
     "output_type": "stream",
     "text": [
      "OntologyItem(foo)\n",
      "OntologyItem(User)\n"
     ]
    }
   ],
   "source": [
    "print(ont[\"foo\"])\n",
    "print(ont[\"foo\"].parent)"
   ]
  },
  {
   "cell_type": "markdown",
   "id": "36fdffef-daa9-432f-ba0d-b0793f889252",
   "metadata": {},
   "source": [
    "Note that any entries added without providing `sourcefile` will not be dumped back to the JSON files.\n",
    "\n",
    "You can access these files at the `paths` property"
   ]
  },
  {
   "cell_type": "code",
   "execution_count": 7,
   "id": "f82dd579-e42b-4ce4-b794-796acf63eb77",
   "metadata": {},
   "outputs": [
    {
     "name": "stdout",
     "output_type": "stream",
     "text": [
      "['../files/main_classes.json', '../files/sub_HPC_classes.json', '../files/sub_Job_class.json', '../files/sub_PIE_classes.json', '../files/sub_PhysChar_classes.json']\n"
     ]
    }
   ],
   "source": [
    "print(ont.paths)"
   ]
  },
  {
   "cell_type": "markdown",
   "id": "293f0ba6-f1db-4f3e-99e7-9c68c6233813",
   "metadata": {},
   "source": [
    "## Dumping to JSON\n",
    "\n",
    "Once you are done making modifications, you can dump the data back to the respective files using the `dump_to_json` function."
   ]
  },
  {
   "cell_type": "code",
   "execution_count": 6,
   "id": "c120d962-1917-44aa-be91-b11bcddc12da",
   "metadata": {},
   "outputs": [],
   "source": [
    "ont.dump_to_json()"
   ]
  }
 ],
 "metadata": {
  "kernelspec": {
   "display_name": "Python 3 (ipykernel)",
   "language": "python",
   "name": "python3"
  },
  "language_info": {
   "codemirror_mode": {
    "name": "ipython",
    "version": 3
   },
   "file_extension": ".py",
   "mimetype": "text/x-python",
   "name": "python",
   "nbconvert_exporter": "python",
   "pygments_lexer": "ipython3",
   "version": "3.11.8"
  }
 },
 "nbformat": 4,
 "nbformat_minor": 5
}
