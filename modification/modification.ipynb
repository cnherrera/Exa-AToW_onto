{
 "cells": [
  {
   "cell_type": "code",
   "execution_count": 1,
   "id": "c4ad4d4c-08b6-4cfe-9d45-b243aa672c18",
   "metadata": {},
   "outputs": [],
   "source": [
    "import os\n",
    "\n",
    "import modification_utils"
   ]
  },
  {
   "cell_type": "markdown",
   "id": "bb2c05a3-19e9-4767-94a7-f588a35a2b69",
   "metadata": {},
   "source": [
    "# Load Ontology Data\n",
    "\n",
    "The JSONOntology class accepts a path to a directory containing the JSON format ontology data.\n",
    "\n",
    "It will collect and read all JSON files, creating OntologyItem objects for each entry."
   ]
  },
  {
   "cell_type": "code",
   "execution_count": 2,
   "id": "b8bd49f7-08ac-4390-bc82-52ce5a1b4c08",
   "metadata": {},
   "outputs": [
    {
     "name": "stdout",
     "output_type": "stream",
     "text": [
      "Creating JSONOntology using base paths:\n",
      "  ../files/main_classes.json\n",
      "  ../files/sub_HPC_classes.json\n",
      "  ../files/sub_Job_class.json\n",
      "  ../files/sub_PIE_classes.json\n",
      "  ../files/sub_PhysChar_classes.json\n",
      "Intial entries added: 58\n"
     ]
    }
   ],
   "source": [
    "ont = modification_utils.JSONOntology(\"../files\")"
   ]
  },
  {
   "cell_type": "markdown",
   "id": "19d469b6-24f5-4368-b400-9faa08badf0c",
   "metadata": {},
   "source": [
    "## Access\n",
    "\n",
    "We can access these items by their `id` property"
   ]
  },
  {
   "cell_type": "code",
   "execution_count": 3,
   "id": "6e2d480f-db98-4381-bb4c-de135fa89d35",
   "metadata": {},
   "outputs": [
    {
     "data": {
      "text/plain": [
       "OntologyItem(JobResourceRequest)"
      ]
     },
     "execution_count": 3,
     "metadata": {},
     "output_type": "execute_result"
    }
   ],
   "source": [
    "ont[\"JobResourceRequest\"]"
   ]
  },
  {
   "cell_type": "markdown",
   "id": "293f0ba6-f1db-4f3e-99e7-9c68c6233813",
   "metadata": {},
   "source": [
    "## Dumping to JSON\n",
    "\n",
    "Once you are done making modifications, you can dump the data back to the respective files using the `dump_to_json` function."
   ]
  },
  {
   "cell_type": "code",
   "execution_count": 4,
   "id": "c120d962-1917-44aa-be91-b11bcddc12da",
   "metadata": {},
   "outputs": [],
   "source": [
    "ont.dump_to_json()"
   ]
  }
 ],
 "metadata": {
  "kernelspec": {
   "display_name": "Python 3 (ipykernel)",
   "language": "python",
   "name": "python3"
  },
  "language_info": {
   "codemirror_mode": {
    "name": "ipython",
    "version": 3
   },
   "file_extension": ".py",
   "mimetype": "text/x-python",
   "name": "python",
   "nbconvert_exporter": "python",
   "pygments_lexer": "ipython3",
   "version": "3.11.8"
  }
 },
 "nbformat": 4,
 "nbformat_minor": 5
}
